{
 "cells": [
  {
   "cell_type": "markdown",
   "metadata": {},
   "source": [
    "# Обучение одной части\n",
    "\n",
    "Всего частей 4. Потребуется 4 раза запустить эту тетрадку, но с разным `number`"
   ]
  },
  {
   "cell_type": "code",
   "execution_count": 1,
   "metadata": {},
   "outputs": [],
   "source": [
    "number = 3"
   ]
  },
  {
   "cell_type": "code",
   "execution_count": 2,
   "metadata": {},
   "outputs": [],
   "source": [
    "import numpy as np\n",
    "import pandas as pd\n",
    "import dask.dataframe as dd"
   ]
  },
  {
   "cell_type": "code",
   "execution_count": 3,
   "metadata": {},
   "outputs": [
    {
     "data": {
      "text/html": [
       "<div>\n",
       "<style scoped>\n",
       "    .dataframe tbody tr th:only-of-type {\n",
       "        vertical-align: middle;\n",
       "    }\n",
       "\n",
       "    .dataframe tbody tr th {\n",
       "        vertical-align: top;\n",
       "    }\n",
       "\n",
       "    .dataframe thead th {\n",
       "        text-align: right;\n",
       "    }\n",
       "</style>\n",
       "<table border=\"1\" class=\"dataframe\">\n",
       "  <thead>\n",
       "    <tr style=\"text-align: right;\">\n",
       "      <th></th>\n",
       "      <th>id</th>\n",
       "      <th>vas_id</th>\n",
       "      <th>buy_time</th>\n",
       "      <th>0</th>\n",
       "      <th>1</th>\n",
       "      <th>2</th>\n",
       "      <th>3</th>\n",
       "      <th>4</th>\n",
       "      <th>5</th>\n",
       "      <th>6</th>\n",
       "      <th>...</th>\n",
       "      <th>243</th>\n",
       "      <th>244</th>\n",
       "      <th>245</th>\n",
       "      <th>246</th>\n",
       "      <th>247</th>\n",
       "      <th>248</th>\n",
       "      <th>249</th>\n",
       "      <th>250</th>\n",
       "      <th>251</th>\n",
       "      <th>252</th>\n",
       "    </tr>\n",
       "  </thead>\n",
       "  <tbody>\n",
       "    <tr>\n",
       "      <th>0</th>\n",
       "      <td>3244377</td>\n",
       "      <td>4.0</td>\n",
       "      <td>1542574800</td>\n",
       "      <td>-96.799971</td>\n",
       "      <td>-408.179112</td>\n",
       "      <td>-110.740786</td>\n",
       "      <td>-460.786798</td>\n",
       "      <td>-116.158246</td>\n",
       "      <td>-481.89179</td>\n",
       "      <td>-16.08618</td>\n",
       "      <td>...</td>\n",
       "      <td>-977.373846</td>\n",
       "      <td>-613.770792</td>\n",
       "      <td>-25.996269</td>\n",
       "      <td>-37.630448</td>\n",
       "      <td>-306.747724</td>\n",
       "      <td>-25.832889</td>\n",
       "      <td>-0.694428</td>\n",
       "      <td>-12.175933</td>\n",
       "      <td>-0.45614</td>\n",
       "      <td>0.0</td>\n",
       "    </tr>\n",
       "    <tr>\n",
       "      <th>1</th>\n",
       "      <td>3244377</td>\n",
       "      <td>2.0</td>\n",
       "      <td>1540155600</td>\n",
       "      <td>-86.119971</td>\n",
       "      <td>-370.879112</td>\n",
       "      <td>-100.060786</td>\n",
       "      <td>-423.486798</td>\n",
       "      <td>-105.478246</td>\n",
       "      <td>-444.59179</td>\n",
       "      <td>-16.08618</td>\n",
       "      <td>...</td>\n",
       "      <td>1968.626154</td>\n",
       "      <td>319.229208</td>\n",
       "      <td>-19.996269</td>\n",
       "      <td>-33.630448</td>\n",
       "      <td>-37.747724</td>\n",
       "      <td>-23.832889</td>\n",
       "      <td>-0.694428</td>\n",
       "      <td>-12.175933</td>\n",
       "      <td>-0.45614</td>\n",
       "      <td>0.0</td>\n",
       "    </tr>\n",
       "    <tr>\n",
       "      <th>2</th>\n",
       "      <td>3244384</td>\n",
       "      <td>2.0</td>\n",
       "      <td>1544389200</td>\n",
       "      <td>-96.799971</td>\n",
       "      <td>-242.569112</td>\n",
       "      <td>-110.740786</td>\n",
       "      <td>-295.176798</td>\n",
       "      <td>-116.158246</td>\n",
       "      <td>-316.28179</td>\n",
       "      <td>-16.08618</td>\n",
       "      <td>...</td>\n",
       "      <td>-740.373846</td>\n",
       "      <td>-568.770792</td>\n",
       "      <td>-11.996269</td>\n",
       "      <td>-36.630448</td>\n",
       "      <td>-124.747724</td>\n",
       "      <td>181.167111</td>\n",
       "      <td>-0.694428</td>\n",
       "      <td>-12.175933</td>\n",
       "      <td>8.54386</td>\n",
       "      <td>0.0</td>\n",
       "    </tr>\n",
       "  </tbody>\n",
       "</table>\n",
       "<p>3 rows × 256 columns</p>\n",
       "</div>"
      ],
      "text/plain": [
       "        id  vas_id    buy_time          0           1           2           3  \\\n",
       "0  3244377     4.0  1542574800 -96.799971 -408.179112 -110.740786 -460.786798   \n",
       "1  3244377     2.0  1540155600 -86.119971 -370.879112 -100.060786 -423.486798   \n",
       "2  3244384     2.0  1544389200 -96.799971 -242.569112 -110.740786 -295.176798   \n",
       "\n",
       "            4          5         6  ...          243         244        245  \\\n",
       "0 -116.158246 -481.89179 -16.08618  ...  -977.373846 -613.770792 -25.996269   \n",
       "1 -105.478246 -444.59179 -16.08618  ...  1968.626154  319.229208 -19.996269   \n",
       "2 -116.158246 -316.28179 -16.08618  ...  -740.373846 -568.770792 -11.996269   \n",
       "\n",
       "         246         247         248       249        250      251  252  \n",
       "0 -37.630448 -306.747724  -25.832889 -0.694428 -12.175933 -0.45614  0.0  \n",
       "1 -33.630448  -37.747724  -23.832889 -0.694428 -12.175933 -0.45614  0.0  \n",
       "2 -36.630448 -124.747724  181.167111 -0.694428 -12.175933  8.54386  0.0  \n",
       "\n",
       "[3 rows x 256 columns]"
      ]
     },
     "execution_count": 3,
     "metadata": {},
     "output_type": "execute_result"
    }
   ],
   "source": [
    "X = dd.read_csv(f'my_data/chunks/X_{number}.csv')\n",
    "X.head(3)"
   ]
  },
  {
   "cell_type": "code",
   "execution_count": 4,
   "metadata": {},
   "outputs": [
    {
     "data": {
      "text/plain": [
       "0    1.0\n",
       "1    0.0\n",
       "2    0.0\n",
       "Name: target, dtype: float64"
      ]
     },
     "execution_count": 4,
     "metadata": {},
     "output_type": "execute_result"
    }
   ],
   "source": [
    "y = dd.read_csv(f'my_data/chunks/y_{number}.csv')['target']\n",
    "y.head(3)"
   ]
  },
  {
   "cell_type": "code",
   "execution_count": 5,
   "metadata": {},
   "outputs": [
    {
     "data": {
      "text/plain": [
       "0"
      ]
     },
     "execution_count": 5,
     "metadata": {},
     "output_type": "execute_result"
    }
   ],
   "source": [
    "sum(y.isna())"
   ]
  },
  {
   "cell_type": "code",
   "execution_count": 6,
   "metadata": {},
   "outputs": [
    {
     "data": {
      "text/plain": [
       "((207884, 256), 207884)"
      ]
     },
     "execution_count": 6,
     "metadata": {},
     "output_type": "execute_result"
    }
   ],
   "source": [
    "((X.shape[0].compute(), X.shape[1]), len(y))"
   ]
  },
  {
   "cell_type": "code",
   "execution_count": 7,
   "metadata": {},
   "outputs": [],
   "source": [
    "# , 'buy_time'\n",
    "X_plain = X.drop(['id'], axis=1).compute()\n",
    "y_plain = y.compute()"
   ]
  },
  {
   "cell_type": "code",
   "execution_count": 8,
   "metadata": {},
   "outputs": [
    {
     "data": {
      "text/plain": [
       "10603.0"
      ]
     },
     "execution_count": 8,
     "metadata": {},
     "output_type": "execute_result"
    }
   ],
   "source": [
    "sum(y_plain)"
   ]
  },
  {
   "cell_type": "code",
   "execution_count": 9,
   "metadata": {},
   "outputs": [],
   "source": [
    "from sklearn.ensemble import GradientBoostingClassifier"
   ]
  },
  {
   "cell_type": "markdown",
   "metadata": {},
   "source": [
    "GradientBoostingClassifier(\n",
    "    \n",
    "ccp_alpha=0.0,\n",
    "\n",
    "criterion='friedman_mse',\n",
    "\n",
    "init=None,\n",
    "\n",
    "learning_rate=0.1,\n",
    "\n",
    "loss='deviance',\n",
    "\n",
    "max_depth=3,\n",
    "\n",
    "max_features=None,\n",
    "\n",
    "max_leaf_nodes=None,\n",
    "\n",
    "min_impurity_decrease=0.0,\n",
    "\n",
    "min_impurity_split=None,\n",
    "\n",
    "min_samples_leaf=1,\n",
    "\n",
    "min_samples_split=2,\n",
    "\n",
    "min_weight_fraction_leaf=0.0,\n",
    "\n",
    "n_estimators=1000,\n",
    "\n",
    "n_iter_no_change=None,\n",
    "\n",
    "presort='deprecated',\n",
    "\n",
    "random_state=21,\n",
    "\n",
    "subsample=1.0,\n",
    "\n",
    "tol=0.0001,\n",
    "\n",
    "validation_fraction=0.1,\n",
    "\n",
    "verbose=0,\n",
    "\n",
    "warm_start=False\n",
    "\n",
    ")"
   ]
  },
  {
   "cell_type": "code",
   "execution_count": 10,
   "metadata": {},
   "outputs": [
    {
     "data": {
      "text/plain": [
       "GradientBoostingClassifier(max_depth=256, n_estimators=128, random_state=1)"
      ]
     },
     "execution_count": 10,
     "metadata": {},
     "output_type": "execute_result"
    }
   ],
   "source": [
    "gb = GradientBoostingClassifier(random_state=1, max_depth=256, n_estimators=128)\n",
    "gb.fit(X_plain, y_plain)"
   ]
  },
  {
   "cell_type": "code",
   "execution_count": 11,
   "metadata": {},
   "outputs": [],
   "source": [
    "pred = gb.predict(X_plain)"
   ]
  },
  {
   "cell_type": "code",
   "execution_count": 12,
   "metadata": {},
   "outputs": [
    {
     "data": {
      "text/plain": [
       "8978.0"
      ]
     },
     "execution_count": 12,
     "metadata": {},
     "output_type": "execute_result"
    }
   ],
   "source": [
    "sum(pred)\n",
    "\n",
    "# 13923.0"
   ]
  },
  {
   "cell_type": "code",
   "execution_count": 13,
   "metadata": {},
   "outputs": [],
   "source": [
    "from sklearn.metrics import f1_score, precision_score, recall_score, precision_recall_curve"
   ]
  },
  {
   "cell_type": "code",
   "execution_count": 14,
   "metadata": {},
   "outputs": [
    {
     "data": {
      "text/plain": [
       "0.906899545477759"
      ]
     },
     "execution_count": 14,
     "metadata": {},
     "output_type": "execute_result"
    }
   ],
   "source": [
    "f1_score(pred, y_plain)\n",
    "\n",
    "# 0.9999034842196699\n",
    "# ...\n",
    "# 0.5194019531587589"
   ]
  },
  {
   "cell_type": "code",
   "execution_count": 15,
   "metadata": {},
   "outputs": [],
   "source": [
    "pred_proba = gb.predict_proba(X_plain)[:, 1]"
   ]
  },
  {
   "cell_type": "code",
   "execution_count": 16,
   "metadata": {},
   "outputs": [],
   "source": [
    "test_number = 0 if number > 0 else 1"
   ]
  },
  {
   "cell_type": "code",
   "execution_count": 17,
   "metadata": {},
   "outputs": [],
   "source": [
    "# , 'buy_time'\n",
    "X_test = dd.read_csv(f'my_data/chunks/X_{test_number}.csv').drop(['id'], axis=1).compute()\n",
    "y_test = dd.read_csv(f'my_data/chunks/y_{test_number}.csv')['target'].compute()"
   ]
  },
  {
   "cell_type": "code",
   "execution_count": 18,
   "metadata": {},
   "outputs": [],
   "source": [
    "pred_test = gb.predict(X_test)\n",
    "pred_test_proba = gb.predict_proba(X_test)[:, 1]"
   ]
  },
  {
   "cell_type": "code",
   "execution_count": 25,
   "metadata": {},
   "outputs": [
    {
     "data": {
      "text/plain": [
       "(0.35769109452213227, 0.2650496026593258, 0.5498922413793104)"
      ]
     },
     "execution_count": 25,
     "metadata": {},
     "output_type": "execute_result"
    }
   ],
   "source": [
    "(\n",
    "    f1_score(pred_test, y_test),\n",
    "    precision_score(pred_test, y_test),\n",
    "    recall_score(pred_test, y_test)\n",
    ")\n",
    "\n",
    "# 0.4039633125795005\n",
    "# 0.37668466476765444\n",
    "# 0.39120021289807505\n",
    "# 0.41393987762702844\n",
    "# 0.4198608012254821\n",
    "# (0.20936927505888514, 0.15441034549314805, 0.3250711093051605)\n",
    "# (0.44649482843539656, 0.4084955539533766, 0.4922887553399464)\n",
    "# (0.35769109452213227, 0.2650496026593258, 0.5498922413793104)\n",
    "# (0.37944388014220415, 0.31044512543499714, 0.4878785405273039)\n",
    "# (0.35769109452213227, 0.2650496026593258, 0.5498922413793104)"
   ]
  },
  {
   "cell_type": "code",
   "execution_count": 20,
   "metadata": {},
   "outputs": [
    {
     "name": "stdout",
     "output_type": "stream",
     "text": [
      "Best threshold = 0.000126,\n",
      "F-Score = 0.489,\n",
      "F1-Score = 0.505,\n",
      "Precision = 0.452,\n",
      "Recall = 0.571\n"
     ]
    }
   ],
   "source": [
    "precision, recall, thresholds = precision_recall_curve(y_test, pred_test_proba)\n",
    "beta = 0.75 # Отдаю предпочтение precision\n",
    "fscore = ((1 + beta**2) * precision * recall) / (beta**2 * precision + recall)\n",
    "f1score = (2 * precision * recall) / (precision + recall)\n",
    "ind = np.argmax(fscore)\n",
    "print('Best threshold = %f,\\nF-Score = %.3f,\\nF1-Score = %.3f,\\nPrecision = %.3f,\\nRecall = %.3f' %\n",
    "       (thresholds[ind], \n",
    "        fscore[ind],\n",
    "        f1score[ind],\n",
    "        precision[ind],\n",
    "        recall[ind]))"
   ]
  },
  {
   "cell_type": "code",
   "execution_count": 21,
   "metadata": {},
   "outputs": [],
   "source": [
    "import matplotlib.pyplot as plt\n",
    "from sklearn.metrics import RocCurveDisplay"
   ]
  },
  {
   "cell_type": "code",
   "execution_count": 22,
   "metadata": {},
   "outputs": [
    {
     "data": {
      "image/png": "[encoded data removed]",
      "text/plain": [
       "<Figure size 432x288 with 1 Axes>"
      ]
     },
     "metadata": {
      "needs_background": "light"
     },
     "output_type": "display_data"
    }
   ],
   "source": [
    "RocCurveDisplay.from_estimator(gb, X_test, y_test)\n",
    "plt.show()"
   ]
  },
  {
   "cell_type": "code",
   "execution_count": 23,
   "metadata": {},
   "outputs": [],
   "source": [
    "import pickle"
   ]
  },
  {
   "cell_type": "code",
   "execution_count": 24,
   "metadata": {},
   "outputs": [],
   "source": [
    "pickle.dump(gb, open(f'my_data/models/{number}.pickle', 'wb'))"
   ]
  },
  {
   "cell_type": "code",
   "execution_count": null,
   "metadata": {},
   "outputs": [],
   "source": []
  }
 ],
 "metadata": {
  "interpreter": {
   "hash": "b0fa6594d8f4cbf19f97940f81e996739fb7646882a419484c72d19e05852a7e"
  },
  "kernelspec": {
   "display_name": "Python 3.9.10 64-bit",
   "name": "python3"
  },
  "language_info": {
   "codemirror_mode": {
    "name": "ipython",
    "version": 3
   },
   "file_extension": ".py",
   "mimetype": "text/x-python",
   "name": "python",
   "nbconvert_exporter": "python",
   "pygments_lexer": "ipython3",
   "version": "3.9.10"
  },
  "orig_nbformat": 4
 },
 "nbformat": 4,
 "nbformat_minor": 2
}
