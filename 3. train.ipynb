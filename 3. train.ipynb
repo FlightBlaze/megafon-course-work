{
 "cells": [
  {
   "cell_type": "markdown",
   "metadata": {},
   "source": [
    "# Обучение одной части\n",
    "\n",
    "Всего частей 4. Потребуется 4 раза запустить эту тетрадку, но с разным `number`"
   ]
  },
  {
   "cell_type": "code",
   "execution_count": 1,
   "metadata": {},
   "outputs": [],
   "source": [
    "number = 3"
   ]
  },
  {
   "cell_type": "code",
   "execution_count": 2,
   "metadata": {},
   "outputs": [],
   "source": [
    "import numpy as np\n",
    "import pandas as pd\n",
    "import dask.dataframe as dd"
   ]
  },
  {
   "cell_type": "code",
   "execution_count": 3,
   "metadata": {},
   "outputs": [
    {
     "data": {
      "text/html": [
       "<div>\n",
       "<style scoped>\n",
       "    .dataframe tbody tr th:only-of-type {\n",
       "        vertical-align: middle;\n",
       "    }\n",
       "\n",
       "    .dataframe tbody tr th {\n",
       "        vertical-align: top;\n",
       "    }\n",
       "\n",
       "    .dataframe thead th {\n",
       "        text-align: right;\n",
       "    }\n",
       "</style>\n",
       "<table border=\"1\" class=\"dataframe\">\n",
       "  <thead>\n",
       "    <tr style=\"text-align: right;\">\n",
       "      <th></th>\n",
       "      <th>id</th>\n",
       "      <th>vas_id</th>\n",
       "      <th>buy_time</th>\n",
       "      <th>0</th>\n",
       "      <th>1</th>\n",
       "      <th>2</th>\n",
       "      <th>3</th>\n",
       "      <th>4</th>\n",
       "      <th>5</th>\n",
       "      <th>6</th>\n",
       "      <th>...</th>\n",
       "      <th>243</th>\n",
       "      <th>244</th>\n",
       "      <th>245</th>\n",
       "      <th>246</th>\n",
       "      <th>247</th>\n",
       "      <th>248</th>\n",
       "      <th>249</th>\n",
       "      <th>250</th>\n",
       "      <th>251</th>\n",
       "      <th>252</th>\n",
       "    </tr>\n",
       "  </thead>\n",
       "  <tbody>\n",
       "    <tr>\n",
       "      <th>0</th>\n",
       "      <td>2144679</td>\n",
       "      <td>1.0</td>\n",
       "      <td>1533502800</td>\n",
       "      <td>-96.799971</td>\n",
       "      <td>252.840888</td>\n",
       "      <td>-95.480786</td>\n",
       "      <td>230.753202</td>\n",
       "      <td>-100.898246</td>\n",
       "      <td>209.64821</td>\n",
       "      <td>-16.08618</td>\n",
       "      <td>...</td>\n",
       "      <td>-6.373846</td>\n",
       "      <td>-613.770792</td>\n",
       "      <td>-25.996269</td>\n",
       "      <td>-37.630448</td>\n",
       "      <td>523.252276</td>\n",
       "      <td>-3.832889</td>\n",
       "      <td>-0.694428</td>\n",
       "      <td>9.824067</td>\n",
       "      <td>-0.45614</td>\n",
       "      <td>0.0</td>\n",
       "    </tr>\n",
       "    <tr>\n",
       "      <th>1</th>\n",
       "      <td>2144685</td>\n",
       "      <td>1.0</td>\n",
       "      <td>1535317200</td>\n",
       "      <td>-92.559971</td>\n",
       "      <td>32.510888</td>\n",
       "      <td>35.869214</td>\n",
       "      <td>139.233202</td>\n",
       "      <td>30.451754</td>\n",
       "      <td>118.12821</td>\n",
       "      <td>-16.08618</td>\n",
       "      <td>...</td>\n",
       "      <td>1035.626154</td>\n",
       "      <td>958.229208</td>\n",
       "      <td>-22.996269</td>\n",
       "      <td>-28.630448</td>\n",
       "      <td>-156.747724</td>\n",
       "      <td>-5.832889</td>\n",
       "      <td>-0.694428</td>\n",
       "      <td>7.824067</td>\n",
       "      <td>-0.45614</td>\n",
       "      <td>0.0</td>\n",
       "    </tr>\n",
       "    <tr>\n",
       "      <th>2</th>\n",
       "      <td>2144696</td>\n",
       "      <td>4.0</td>\n",
       "      <td>1541365200</td>\n",
       "      <td>411.670029</td>\n",
       "      <td>477.750888</td>\n",
       "      <td>513.809214</td>\n",
       "      <td>905.993202</td>\n",
       "      <td>508.391754</td>\n",
       "      <td>884.88821</td>\n",
       "      <td>492.38382</td>\n",
       "      <td>...</td>\n",
       "      <td>3793.626154</td>\n",
       "      <td>-605.770792</td>\n",
       "      <td>526.003731</td>\n",
       "      <td>14.369552</td>\n",
       "      <td>16757.252276</td>\n",
       "      <td>-17.832889</td>\n",
       "      <td>-0.694428</td>\n",
       "      <td>-12.175933</td>\n",
       "      <td>-0.45614</td>\n",
       "      <td>0.0</td>\n",
       "    </tr>\n",
       "  </tbody>\n",
       "</table>\n",
       "<p>3 rows × 256 columns</p>\n",
       "</div>"
      ],
      "text/plain": [
       "        id  vas_id    buy_time           0           1           2  \\\n",
       "0  2144679     1.0  1533502800  -96.799971  252.840888  -95.480786   \n",
       "1  2144685     1.0  1535317200  -92.559971   32.510888   35.869214   \n",
       "2  2144696     4.0  1541365200  411.670029  477.750888  513.809214   \n",
       "\n",
       "            3           4          5          6  ...          243         244  \\\n",
       "0  230.753202 -100.898246  209.64821  -16.08618  ...    -6.373846 -613.770792   \n",
       "1  139.233202   30.451754  118.12821  -16.08618  ...  1035.626154  958.229208   \n",
       "2  905.993202  508.391754  884.88821  492.38382  ...  3793.626154 -605.770792   \n",
       "\n",
       "          245        246           247        248       249        250  \\\n",
       "0  -25.996269 -37.630448    523.252276  -3.832889 -0.694428   9.824067   \n",
       "1  -22.996269 -28.630448   -156.747724  -5.832889 -0.694428   7.824067   \n",
       "2  526.003731  14.369552  16757.252276 -17.832889 -0.694428 -12.175933   \n",
       "\n",
       "       251  252  \n",
       "0 -0.45614  0.0  \n",
       "1 -0.45614  0.0  \n",
       "2 -0.45614  0.0  \n",
       "\n",
       "[3 rows x 256 columns]"
      ]
     },
     "execution_count": 3,
     "metadata": {},
     "output_type": "execute_result"
    }
   ],
   "source": [
    "X = dd.read_csv(f'my_data/chunks/X_{number}.csv')\n",
    "X.head(3)"
   ]
  },
  {
   "cell_type": "code",
   "execution_count": 4,
   "metadata": {},
   "outputs": [
    {
     "data": {
      "text/plain": [
       "0    0.0\n",
       "1    0.0\n",
       "2    0.0\n",
       "Name: target, dtype: float64"
      ]
     },
     "execution_count": 4,
     "metadata": {},
     "output_type": "execute_result"
    }
   ],
   "source": [
    "y = dd.read_csv(f'my_data/chunks/y_{number}.csv')['target']\n",
    "y.head(3)"
   ]
  },
  {
   "cell_type": "code",
   "execution_count": 5,
   "metadata": {},
   "outputs": [
    {
     "data": {
      "text/plain": [
       "0"
      ]
     },
     "execution_count": 5,
     "metadata": {},
     "output_type": "execute_result"
    }
   ],
   "source": [
    "sum(y.isna())"
   ]
  },
  {
   "cell_type": "code",
   "execution_count": 6,
   "metadata": {},
   "outputs": [
    {
     "data": {
      "text/plain": [
       "((207923, 256), 207923)"
      ]
     },
     "execution_count": 6,
     "metadata": {},
     "output_type": "execute_result"
    }
   ],
   "source": [
    "((X.shape[0].compute(), X.shape[1]), len(y))"
   ]
  },
  {
   "cell_type": "code",
   "execution_count": 7,
   "metadata": {},
   "outputs": [],
   "source": [
    "# , 'buy_time'\n",
    "X_plain = X.drop(['id'], axis=1).compute()\n",
    "y_plain = y.compute()"
   ]
  },
  {
   "cell_type": "code",
   "execution_count": 8,
   "metadata": {},
   "outputs": [
    {
     "data": {
      "text/plain": [
       "13686.0"
      ]
     },
     "execution_count": 8,
     "metadata": {},
     "output_type": "execute_result"
    }
   ],
   "source": [
    "sum(y_plain)"
   ]
  },
  {
   "cell_type": "code",
   "execution_count": 9,
   "metadata": {},
   "outputs": [],
   "source": [
    "from sklearn.ensemble import GradientBoostingClassifier\n",
    "from sklearn.tree import DecisionTreeClassifier"
   ]
  },
  {
   "cell_type": "markdown",
   "metadata": {},
   "source": [
    "GradientBoostingClassifier(\n",
    "    \n",
    "ccp_alpha=0.0,\n",
    "\n",
    "criterion='friedman_mse',\n",
    "\n",
    "init=None,\n",
    "\n",
    "learning_rate=0.1,\n",
    "\n",
    "loss='deviance',\n",
    "\n",
    "max_depth=3,\n",
    "\n",
    "max_features=None,\n",
    "\n",
    "max_leaf_nodes=None,\n",
    "\n",
    "min_impurity_decrease=0.0,\n",
    "\n",
    "min_impurity_split=None,\n",
    "\n",
    "min_samples_leaf=1,\n",
    "\n",
    "min_samples_split=2,\n",
    "\n",
    "min_weight_fraction_leaf=0.0,\n",
    "\n",
    "n_estimators=1000,\n",
    "\n",
    "n_iter_no_change=None,\n",
    "\n",
    "presort='deprecated',\n",
    "\n",
    "random_state=21,\n",
    "\n",
    "subsample=1.0,\n",
    "\n",
    "tol=0.0001,\n",
    "\n",
    "validation_fraction=0.1,\n",
    "\n",
    "verbose=0,\n",
    "\n",
    "warm_start=False\n",
    "\n",
    ")"
   ]
  },
  {
   "cell_type": "code",
   "execution_count": 10,
   "metadata": {},
   "outputs": [],
   "source": [
    "# gb = GradientBoostingClassifier(random_state=1, max_depth=256, n_estimators=128)\n",
    "# gb.fit(X_plain, y_plain)"
   ]
  },
  {
   "cell_type": "code",
   "execution_count": 11,
   "metadata": {},
   "outputs": [],
   "source": [
    "# pred = gb.predict(X_plain)"
   ]
  },
  {
   "cell_type": "code",
   "execution_count": 12,
   "metadata": {},
   "outputs": [],
   "source": [
    "# sum(pred)\n",
    "\n",
    "# 13923.0"
   ]
  },
  {
   "cell_type": "code",
   "execution_count": 13,
   "metadata": {},
   "outputs": [
    {
     "data": {
      "text/plain": [
       "15.192386380242583"
      ]
     },
     "execution_count": 13,
     "metadata": {},
     "output_type": "execute_result"
    }
   ],
   "source": [
    "len(y_plain) / sum(y_plain)"
   ]
  },
  {
   "cell_type": "code",
   "execution_count": 14,
   "metadata": {},
   "outputs": [
    {
     "data": {
      "text/plain": [
       "DecisionTreeClassifier(class_weight={0: 1.0, 1: 19.6}, max_depth=8192,\n",
       "                       min_samples_leaf=10, random_state=1)"
      ]
     },
     "execution_count": 14,
     "metadata": {},
     "output_type": "execute_result"
    }
   ],
   "source": [
    "weights = {0:1.0, 1:19.6}\n",
    "dt = DecisionTreeClassifier(\n",
    "    random_state=1, class_weight=weights,\n",
    "    max_depth=8192, min_samples_leaf=10)\n",
    "dt.fit(X_plain, y_plain)"
   ]
  },
  {
   "cell_type": "code",
   "execution_count": 15,
   "metadata": {},
   "outputs": [
    {
     "data": {
      "text/plain": [
       "(33634.0, 13686.0)"
      ]
     },
     "execution_count": 15,
     "metadata": {},
     "output_type": "execute_result"
    }
   ],
   "source": [
    "pred = dt.predict(X_plain)\n",
    "(sum(pred), sum(y_plain))"
   ]
  },
  {
   "cell_type": "code",
   "execution_count": 16,
   "metadata": {},
   "outputs": [],
   "source": [
    "from sklearn.metrics import f1_score, precision_score, recall_score, precision_recall_curve"
   ]
  },
  {
   "cell_type": "code",
   "execution_count": 17,
   "metadata": {},
   "outputs": [
    {
     "data": {
      "text/plain": [
       "(0.7618954314808464, 0.4065826247249807, 0.9991962589507526)"
      ]
     },
     "execution_count": 17,
     "metadata": {},
     "output_type": "execute_result"
    }
   ],
   "source": [
    "(\n",
    "    f1_score(y_plain, pred, average='macro'),\n",
    "    precision_score(y_plain, pred),\n",
    "    recall_score(y_plain, pred)\n",
    ")\n",
    "\n",
    "# 0.9999034842196699\n",
    "# ...\n",
    "# 0.5194019531587589\n",
    "# 0.69\n"
   ]
  },
  {
   "cell_type": "code",
   "execution_count": 18,
   "metadata": {},
   "outputs": [],
   "source": [
    "# , 'buy_time'\n",
    "X_test = pd.DataFrame()\n",
    "y_test = pd.DataFrame()\n",
    "\n",
    "for i in range(4):\n",
    "    if i == number:\n",
    "        continue\n",
    "    \n",
    "    X_test = X_test.append(dd.read_csv(f'my_data/chunks/X_{i}.csv').drop(['id'], axis=1).compute())\n",
    "    y_test = y_test.append(dd.read_csv(f'my_data/chunks/y_{i}.csv').compute())\n",
    "\n",
    "y_test = y_test['target']"
   ]
  },
  {
   "cell_type": "code",
   "execution_count": 19,
   "metadata": {},
   "outputs": [],
   "source": [
    "pred_test = dt.predict(X_test)\n",
    "pred_test_proba = dt.predict_proba(X_test)[:, 1]"
   ]
  },
  {
   "cell_type": "code",
   "execution_count": 20,
   "metadata": {},
   "outputs": [
    {
     "data": {
      "text/plain": [
       "(0.6895944009245165, 0.32714418674613843, 0.7483440860215054)"
      ]
     },
     "execution_count": 20,
     "metadata": {},
     "output_type": "execute_result"
    }
   ],
   "source": [
    "(\n",
    "    f1_score(y_test, pred_test, average='macro'),\n",
    "    precision_score(y_test, pred_test),\n",
    "    recall_score(y_test, pred_test)\n",
    ")\n",
    "\n",
    "# 0.4039633125795005\n",
    "# 0.37668466476765444\n",
    "# 0.39120021289807505\n",
    "# 0.41393987762702844\n",
    "# 0.4198608012254821\n",
    "# (0.20936927505888514, 0.15441034549314805, 0.3250711093051605)\n",
    "# (0.44649482843539656, 0.4084955539533766, 0.4922887553399464)\n",
    "# (0.35769109452213227, 0.2650496026593258, 0.5498922413793104)\n",
    "# (0.37944388014220415, 0.31044512543499714, 0.4878785405273039)\n",
    "# (0.35769109452213227, 0.2650496026593258, 0.5498922413793104)\n",
    "# (0.36334109572251494, 0.30795200747935386, 0.44302473287005906)\n",
    "# (0.5107946715663757, 0.6930867916688308, 0.4044249128655857)"
   ]
  },
  {
   "cell_type": "code",
   "execution_count": 21,
   "metadata": {},
   "outputs": [
    {
     "name": "stdout",
     "output_type": "stream",
     "text": [
      "Best threshold = 0.839400,\n",
      "F-Score = 0.446,\n",
      "F1-Score = 0.466,\n",
      "Precision = 0.400,\n",
      "Recall = 0.559\n"
     ]
    }
   ],
   "source": [
    "precision, recall, thresholds = precision_recall_curve(y_test, pred_test_proba)\n",
    "beta = 0.75 # Отдаю предпочтение precision\n",
    "fscore = ((1 + beta**2) * precision * recall) / (beta**2 * precision + recall)\n",
    "f1score = (2 * precision * recall) / (precision + recall)\n",
    "ind = np.argmax(fscore)\n",
    "print('Best threshold = %f,\\nF-Score = %.3f,\\nF1-Score = %.3f,\\nPrecision = %.3f,\\nRecall = %.3f' %\n",
    "       (thresholds[ind], \n",
    "        fscore[ind],\n",
    "        f1score[ind],\n",
    "        precision[ind],\n",
    "        recall[ind]))"
   ]
  },
  {
   "cell_type": "code",
   "execution_count": 22,
   "metadata": {},
   "outputs": [],
   "source": [
    "import matplotlib.pyplot as plt\n",
    "from sklearn.metrics import RocCurveDisplay"
   ]
  },
  {
   "cell_type": "code",
   "execution_count": 23,
   "metadata": {},
   "outputs": [
    {
     "data": {
      "image/png": "[encoded data removed]",
      "text/plain": [
       "<Figure size 432x288 with 1 Axes>"
      ]
     },
     "metadata": {
      "needs_background": "light"
     },
     "output_type": "display_data"
    }
   ],
   "source": [
    "RocCurveDisplay.from_estimator(dt, X_test, y_test)\n",
    "plt.show()"
   ]
  },
  {
   "cell_type": "code",
   "execution_count": 24,
   "metadata": {},
   "outputs": [],
   "source": [
    "import pickle"
   ]
  },
  {
   "cell_type": "code",
   "execution_count": 25,
   "metadata": {},
   "outputs": [],
   "source": [
    "pickle.dump(dt, open(f'my_data/models/{number}.pickle', 'wb'))"
   ]
  },
  {
   "cell_type": "code",
   "execution_count": null,
   "metadata": {},
   "outputs": [],
   "source": []
  }
 ],
 "metadata": {
  "interpreter": {
   "hash": "b0fa6594d8f4cbf19f97940f81e996739fb7646882a419484c72d19e05852a7e"
  },
  "kernelspec": {
   "display_name": "Python 3.9.10 64-bit",
   "name": "python3"
  },
  "language_info": {
   "codemirror_mode": {
    "name": "ipython",
    "version": 3
   },
   "file_extension": ".py",
   "mimetype": "text/x-python",
   "name": "python",
   "nbconvert_exporter": "python",
   "pygments_lexer": "ipython3",
   "version": "3.9.10"
  },
  "orig_nbformat": 4
 },
 "nbformat": 4,
 "nbformat_minor": 2
}
